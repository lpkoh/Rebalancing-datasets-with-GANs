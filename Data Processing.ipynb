{
 "cells": [
  {
   "cell_type": "code",
   "execution_count": 68,
   "metadata": {},
   "outputs": [],
   "source": [
    "from keras.datasets import cifar10\n",
    "import numpy as np\n",
    "from random import sample "
   ]
  },
  {
   "cell_type": "code",
   "execution_count": 69,
   "metadata": {},
   "outputs": [
    {
     "name": "stdout",
     "output_type": "stream",
     "text": [
      "(50000, 32, 32, 3)\n",
      "(50000, 1)\n"
     ]
    }
   ],
   "source": [
    "#Load in training data\n",
    "(x_train, y_train), _ = cifar10.load_data()\n",
    "print(x_train.shape)\n",
    "print(y_train.shape)"
   ]
  },
  {
   "cell_type": "code",
   "execution_count": 70,
   "metadata": {},
   "outputs": [],
   "source": [
    "for i in range(10):\n",
    "    nonLabelX = []\n",
    "    nonLabelY = []\n",
    "    labelX = []\n",
    "    labelY = []\n",
    "    for y in range(y_train.shape[0]):\n",
    "        if y_train[y][0] == i:\n",
    "            labelX.append(x_train[y])\n",
    "            labelY.append(y_train[y])\n",
    "        else:\n",
    "            nonLabelX.append(x_train[y])\n",
    "            nonLabelY.append(y_train[y])\n",
    "    idx = np.random.choice(np.arange(5000), 500, replace = False)\n",
    "    sampleX = [labelX[i] for i in idx]\n",
    "    sampleY = [labelY[i] for i in idx]\n",
    "    newTrainX = np.array(nonLabelX + sampleX)\n",
    "    newTrainY = np.array(nonLabelY + sampleY)\n",
    "    np.save('./Data/UnderSamples/X' + str(i), newTrainX)\n",
    "    np.save('./Data/UnderSamples/Y' + str(i), newTrainY)"
   ]
  },
  {
   "cell_type": "code",
   "execution_count": null,
   "metadata": {},
   "outputs": [],
   "source": []
  }
 ],
 "metadata": {
  "kernelspec": {
   "display_name": "Python 3",
   "language": "python",
   "name": "python3"
  },
  "language_info": {
   "codemirror_mode": {
    "name": "ipython",
    "version": 3
   },
   "file_extension": ".py",
   "mimetype": "text/x-python",
   "name": "python",
   "nbconvert_exporter": "python",
   "pygments_lexer": "ipython3",
   "version": "3.7.3"
  }
 },
 "nbformat": 4,
 "nbformat_minor": 2
}
